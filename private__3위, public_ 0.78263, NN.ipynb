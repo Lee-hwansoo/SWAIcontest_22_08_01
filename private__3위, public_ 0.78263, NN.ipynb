{
  "nbformat": 4,
  "nbformat_minor": 0,
  "metadata": {
    "colab": {
      "name": "Psychometrics2.ipynb",
      "provenance": []
    },
    "kernelspec": {
      "name": "python3",
      "display_name": "Python 3"
    },
    "accelerator": "GPU"
  },
  "cells": [
    {
      "cell_type": "code",
      "metadata": {
        "id": "VjwiwxsUOw2r",
        "colab": {
          "base_uri": "https://localhost:8080/"
        },
        "outputId": "f0c87d05-744a-46fa-9ba6-7e1c84d6f3c2"
      },
      "source": [
        "import random\n",
        "from datetime import datetime\n",
        "\n",
        "import numpy as np\n",
        "import pandas as pd\n",
        "import torch\n",
        "from sklearn.model_selection import StratifiedKFold\n",
        "from torch import nn, optim\n",
        "from torch.utils.data import DataLoader\n",
        "from torch.utils.data import TensorDataset\n",
        "from tqdm import tqdm\n",
        "\n",
        "random.seed(0)\n",
        "np.random.seed(0)\n",
        "torch.manual_seed(0)\n",
        "torch.backends.cudnn.deterministic = True\n",
        "torch.backends.cudnn.benchmark = False\n",
        "\n",
        "DEVICE = 'cuda:0' if torch.cuda.is_available() else 'cpu'\n",
        "\n",
        "drop_list = ['QaE', 'QbE', 'QcE', 'QdE', 'QeE',\n",
        "             'QfE', 'QgE', 'QhE', 'QiE', 'QjE',\n",
        "             'QkE', 'QlE', 'QmE', 'QnE', 'QoE',\n",
        "             'QpE', 'QqE', 'QrE', 'QsE', 'QtE',\n",
        "             'index', 'hand']\n",
        "replace_dict = {'education': str, 'engnat': str, 'married': str, 'urban': str}\n",
        "train_data = pd.read_csv('./drive/My Drive/ML/psychometrics/train.csv')\n",
        "test_data = pd.read_csv('./drive/My Drive/ML/psychometrics/test_x.csv')\n",
        "train_data = train_data.drop(train_data[train_data.familysize > 50].index)\n",
        "train_y = train_data['voted']\n",
        "train_x = train_data.drop(drop_list + ['voted'], axis=1)\n",
        "test_x = test_data.drop(drop_list, axis=1)\n",
        "train_x = train_x.astype(replace_dict)\n",
        "test_x = test_x.astype(replace_dict)\n",
        "train_x = pd.get_dummies(train_x)\n",
        "test_x = pd.get_dummies(test_x)\n",
        "train_y = 2 - train_y.to_numpy()\n",
        "train_x = train_x.to_numpy()\n",
        "test_x = test_x.to_numpy()\n",
        "\n",
        "train_y_t = torch.tensor(train_y, dtype=torch.float32)\n",
        "train_x_t = torch.tensor(train_x, dtype=torch.float32)\n",
        "test_x_t = torch.tensor(test_x, dtype=torch.float32)\n",
        "train_x_t[:, :20] = (train_x_t[:, :20] - 3.) / 2.\n",
        "test_x_t[:, :20] = (test_x_t[:, :20] - 3.) / 2\n",
        "train_x_t[:, 20] = (train_x_t[:, 20] - 5.) / 4.\n",
        "test_x_t[:, 20] = (test_x_t[:, 20] - 5.) / 4.\n",
        "train_x_t[:, 21:31] = (train_x_t[:, 21:31] - 3.5) / 3.5\n",
        "test_x_t[:, 21:31] = (test_x_t[:, 21:31] - 3.5) / 3.5\n",
        "test_len = len(test_x_t)\n",
        "\n",
        "N_REPEAT = 5\n",
        "N_SKFOLD = 7\n",
        "N_EPOCH = 48\n",
        "BATCH_SIZE = 72\n",
        "LOADER_PARAM = {\n",
        "    'batch_size': BATCH_SIZE,\n",
        "    'num_workers': 4,\n",
        "    'pin_memory': True\n",
        "}\n",
        "prediction = np.zeros((test_len, 1), dtype=np.float32)\n",
        "\n",
        "for repeat in range(N_REPEAT):\n",
        "\n",
        "    skf, tot = StratifiedKFold(n_splits=N_SKFOLD, random_state=repeat, shuffle=True), 0.\n",
        "    for skfold, (train_idx, valid_idx) in enumerate(skf.split(train_x, train_y)):\n",
        "        train_idx, valid_idx = list(train_idx), list(valid_idx)\n",
        "        train_loader = DataLoader(TensorDataset(train_x_t[train_idx, :], train_y_t[train_idx]),\n",
        "                                  shuffle=True, drop_last=True, **LOADER_PARAM)\n",
        "        valid_loader = DataLoader(TensorDataset(train_x_t[valid_idx, :], train_y_t[valid_idx]),\n",
        "                                  shuffle=False, drop_last=False, **LOADER_PARAM)\n",
        "        test_loader = DataLoader(TensorDataset(test_x_t, torch.zeros((test_len,), dtype=torch.float32)),\n",
        "                                 shuffle=False, drop_last=False, **LOADER_PARAM)\n",
        "        model = nn.Sequential(\n",
        "            nn.Dropout(0.05),\n",
        "            nn.Linear(91, 180, bias=False),\n",
        "            nn.LeakyReLU(0.05, inplace=True),\n",
        "            nn.Dropout(0.5),\n",
        "            nn.Linear(180, 32, bias=False),\n",
        "            nn.ReLU(inplace=True),\n",
        "            nn.Linear(32, 1)\n",
        "        ).to(DEVICE)\n",
        "        criterion = torch.nn.BCEWithLogitsLoss(pos_weight=torch.tensor([1.20665], device=DEVICE))\n",
        "        optimizer = optim.AdamW(model.parameters(), lr=5e-3, weight_decay=7.8e-2)\n",
        "        scheduler = optim.lr_scheduler.CosineAnnealingWarmRestarts(\n",
        "            optimizer, T_0=N_EPOCH // 6, eta_min=4e-4)\n",
        "        prediction_t, loss_t = np.zeros((test_len, 1), dtype=np.float32), 1.\n",
        "\n",
        "        # for epoch in range(N_EPOCH):\n",
        "        for epoch in tqdm(range(N_EPOCH), desc='{:02d}/{:02d}'.format(skfold + 1, N_SKFOLD)):\n",
        "            model.train()\n",
        "            for idx, (xx, yy) in enumerate(train_loader):\n",
        "                optimizer.zero_grad()\n",
        "                xx, yy = xx.to(DEVICE), yy.to(DEVICE)\n",
        "                pred = model(xx).squeeze()\n",
        "                loss = criterion(pred, yy)\n",
        "                loss.backward()\n",
        "                optimizer.step()\n",
        "                scheduler.step(epoch + idx / len(train_loader))\n",
        "\n",
        "            with torch.no_grad():\n",
        "                model.eval()\n",
        "                running_acc, running_loss, running_count = 0, 0., 0\n",
        "                for xx, yy in valid_loader:\n",
        "                    xx, yy = xx.to(DEVICE), yy.to(DEVICE)\n",
        "                    pred = model(xx).squeeze()\n",
        "                    loss = criterion(pred, yy)\n",
        "                    running_loss += loss.item() * len(yy)\n",
        "                    running_count += len(yy)\n",
        "                    running_acc += ((torch.sigmoid(pred) > 0.5).float() == yy).sum().item()\n",
        "                # print('R{:02d} S{:02d} E{:02d} | {:6.4f}, {:5.2f}%'\n",
        "                #       .format(repeat + 1, skfold + 1, epoch + 1, running_loss / running_count,\n",
        "                #               running_acc / running_count * 100))\n",
        "\n",
        "                if running_loss / running_count < loss_t:\n",
        "                    loss_t = running_loss / running_count\n",
        "                    for idx, (xx, _) in enumerate(test_loader):\n",
        "                        xx = xx.to(DEVICE)\n",
        "                        pred = (2. - torch.sigmoid(model(xx).detach().to('cpu'))).numpy()\n",
        "                        prediction_t[BATCH_SIZE * idx:min(BATCH_SIZE * (idx + 1), len(prediction)), :] \\\n",
        "                            = pred[:, :].copy()\n",
        "        prediction[:, :] += prediction_t[:, :].copy() / (N_REPEAT * N_SKFOLD)\n",
        "        tot += loss_t\n",
        "    print('R{} -> {:6.4f}'.format(repeat + 1, tot / N_SKFOLD))\n",
        "\n",
        "df = pd.read_csv('./drive/My Drive/ML/psychometrics/sample_submission.csv')\n",
        "df.iloc[:, 1:] = prediction\n",
        "df.to_csv('./drive/My Drive/ML/psychometrics/Result/{}.csv'.format(datetime.now().strftime('%m%d-%H%M')), index=False)"
      ],
      "execution_count": null,
      "outputs": [
        {
          "output_type": "stream",
          "text": [
            "01/07: 100%|██████████| 48/48 [02:18<00:00,  2.89s/it]\n",
            "02/07: 100%|██████████| 48/48 [02:13<00:00,  2.79s/it]\n",
            "03/07: 100%|██████████| 48/48 [02:11<00:00,  2.74s/it]\n",
            "04/07: 100%|██████████| 48/48 [02:08<00:00,  2.68s/it]\n",
            "05/07: 100%|██████████| 48/48 [02:12<00:00,  2.77s/it]\n",
            "06/07: 100%|██████████| 48/48 [02:10<00:00,  2.73s/it]\n",
            "07/07: 100%|██████████| 48/48 [02:10<00:00,  2.72s/it]\n",
            "01/07:   0%|          | 0/48 [00:00<?, ?it/s]"
          ],
          "name": "stderr"
        },
        {
          "output_type": "stream",
          "text": [
            "R1 -> 0.6051\n"
          ],
          "name": "stdout"
        },
        {
          "output_type": "stream",
          "text": [
            "01/07: 100%|██████████| 48/48 [02:10<00:00,  2.73s/it]\n",
            "02/07: 100%|██████████| 48/48 [02:10<00:00,  2.71s/it]\n",
            "03/07: 100%|██████████| 48/48 [02:09<00:00,  2.70s/it]\n",
            "04/07: 100%|██████████| 48/48 [02:09<00:00,  2.71s/it]\n",
            "05/07: 100%|██████████| 48/48 [02:11<00:00,  2.74s/it]\n",
            "06/07: 100%|██████████| 48/48 [02:09<00:00,  2.70s/it]\n",
            "07/07: 100%|██████████| 48/48 [02:10<00:00,  2.71s/it]\n",
            "01/07:   0%|          | 0/48 [00:00<?, ?it/s]"
          ],
          "name": "stderr"
        },
        {
          "output_type": "stream",
          "text": [
            "R2 -> 0.6054\n"
          ],
          "name": "stdout"
        },
        {
          "output_type": "stream",
          "text": [
            "01/07: 100%|██████████| 48/48 [02:11<00:00,  2.74s/it]\n",
            "02/07: 100%|██████████| 48/48 [02:08<00:00,  2.68s/it]\n",
            "03/07: 100%|██████████| 48/48 [02:10<00:00,  2.71s/it]\n",
            "04/07: 100%|██████████| 48/48 [02:13<00:00,  2.77s/it]\n",
            "05/07: 100%|██████████| 48/48 [02:09<00:00,  2.70s/it]\n",
            "06/07: 100%|██████████| 48/48 [02:10<00:00,  2.73s/it]\n",
            "07/07: 100%|██████████| 48/48 [02:14<00:00,  2.80s/it]\n",
            "01/07:   0%|          | 0/48 [00:00<?, ?it/s]"
          ],
          "name": "stderr"
        },
        {
          "output_type": "stream",
          "text": [
            "R3 -> 0.6052\n"
          ],
          "name": "stdout"
        },
        {
          "output_type": "stream",
          "text": [
            "01/07: 100%|██████████| 48/48 [02:12<00:00,  2.76s/it]\n",
            "02/07: 100%|██████████| 48/48 [02:11<00:00,  2.74s/it]\n",
            "03/07: 100%|██████████| 48/48 [02:12<00:00,  2.76s/it]\n",
            "04/07: 100%|██████████| 48/48 [02:14<00:00,  2.81s/it]\n",
            "05/07: 100%|██████████| 48/48 [02:08<00:00,  2.68s/it]\n",
            "06/07: 100%|██████████| 48/48 [02:11<00:00,  2.74s/it]\n",
            "07/07: 100%|██████████| 48/48 [02:13<00:00,  2.78s/it]\n",
            "01/07:   0%|          | 0/48 [00:00<?, ?it/s]"
          ],
          "name": "stderr"
        },
        {
          "output_type": "stream",
          "text": [
            "R4 -> 0.6053\n"
          ],
          "name": "stdout"
        },
        {
          "output_type": "stream",
          "text": [
            "01/07: 100%|██████████| 48/48 [02:07<00:00,  2.66s/it]\n",
            "02/07: 100%|██████████| 48/48 [02:10<00:00,  2.71s/it]\n",
            "03/07: 100%|██████████| 48/48 [02:12<00:00,  2.76s/it]\n",
            "04/07: 100%|██████████| 48/48 [02:11<00:00,  2.75s/it]\n",
            "05/07: 100%|██████████| 48/48 [02:10<00:00,  2.73s/it]\n",
            "06/07: 100%|██████████| 48/48 [02:09<00:00,  2.69s/it]\n",
            "07/07: 100%|██████████| 48/48 [02:10<00:00,  2.72s/it]\n"
          ],
          "name": "stderr"
        },
        {
          "output_type": "stream",
          "text": [
            "R5 -> 0.6053\n"
          ],
          "name": "stdout"
        }
      ]
    }
  ]
}